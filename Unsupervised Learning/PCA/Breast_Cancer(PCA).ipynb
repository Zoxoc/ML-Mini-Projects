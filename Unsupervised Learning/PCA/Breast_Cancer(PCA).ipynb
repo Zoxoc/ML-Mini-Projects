{
  "nbformat": 4,
  "nbformat_minor": 0,
  "metadata": {
    "colab": {
      "provenance": []
    },
    "kernelspec": {
      "name": "python3",
      "display_name": "Python 3"
    },
    "language_info": {
      "name": "python"
    }
  },
  "cells": [
    {
      "cell_type": "code",
      "execution_count": 30,
      "metadata": {
        "colab": {
          "base_uri": "https://localhost:8080/"
        },
        "id": "VLxjkscV0qTL",
        "outputId": "4bd2afe1-66a5-4905-8cfd-83532162bfb6"
      },
      "outputs": [
        {
          "output_type": "stream",
          "name": "stdout",
          "text": [
            "           id diagnosis  radius_mean  texture_mean  perimeter_mean  area_mean  \\\n",
            "0      842302         M        17.99         10.38          122.80     1001.0   \n",
            "1      842517         M        20.57         17.77          132.90     1326.0   \n",
            "2    84300903         M        19.69         21.25          130.00     1203.0   \n",
            "3    84348301         M        11.42         20.38           77.58      386.1   \n",
            "4    84358402         M        20.29         14.34          135.10     1297.0   \n",
            "..        ...       ...          ...           ...             ...        ...   \n",
            "564    926424         M        21.56         22.39          142.00     1479.0   \n",
            "565    926682         M        20.13         28.25          131.20     1261.0   \n",
            "566    926954         M        16.60         28.08          108.30      858.1   \n",
            "567    927241         M        20.60         29.33          140.10     1265.0   \n",
            "568     92751         B         7.76         24.54           47.92      181.0   \n",
            "\n",
            "     smoothness_mean  compactness_mean  concavity_mean  concave points_mean  \\\n",
            "0            0.11840           0.27760         0.30010              0.14710   \n",
            "1            0.08474           0.07864         0.08690              0.07017   \n",
            "2            0.10960           0.15990         0.19740              0.12790   \n",
            "3            0.14250           0.28390         0.24140              0.10520   \n",
            "4            0.10030           0.13280         0.19800              0.10430   \n",
            "..               ...               ...             ...                  ...   \n",
            "564          0.11100           0.11590         0.24390              0.13890   \n",
            "565          0.09780           0.10340         0.14400              0.09791   \n",
            "566          0.08455           0.10230         0.09251              0.05302   \n",
            "567          0.11780           0.27700         0.35140              0.15200   \n",
            "568          0.05263           0.04362         0.00000              0.00000   \n",
            "\n",
            "     ...  texture_worst  perimeter_worst  area_worst  smoothness_worst  \\\n",
            "0    ...          17.33           184.60      2019.0           0.16220   \n",
            "1    ...          23.41           158.80      1956.0           0.12380   \n",
            "2    ...          25.53           152.50      1709.0           0.14440   \n",
            "3    ...          26.50            98.87       567.7           0.20980   \n",
            "4    ...          16.67           152.20      1575.0           0.13740   \n",
            "..   ...            ...              ...         ...               ...   \n",
            "564  ...          26.40           166.10      2027.0           0.14100   \n",
            "565  ...          38.25           155.00      1731.0           0.11660   \n",
            "566  ...          34.12           126.70      1124.0           0.11390   \n",
            "567  ...          39.42           184.60      1821.0           0.16500   \n",
            "568  ...          30.37            59.16       268.6           0.08996   \n",
            "\n",
            "     compactness_worst  concavity_worst  concave points_worst  symmetry_worst  \\\n",
            "0              0.66560           0.7119                0.2654          0.4601   \n",
            "1              0.18660           0.2416                0.1860          0.2750   \n",
            "2              0.42450           0.4504                0.2430          0.3613   \n",
            "3              0.86630           0.6869                0.2575          0.6638   \n",
            "4              0.20500           0.4000                0.1625          0.2364   \n",
            "..                 ...              ...                   ...             ...   \n",
            "564            0.21130           0.4107                0.2216          0.2060   \n",
            "565            0.19220           0.3215                0.1628          0.2572   \n",
            "566            0.30940           0.3403                0.1418          0.2218   \n",
            "567            0.86810           0.9387                0.2650          0.4087   \n",
            "568            0.06444           0.0000                0.0000          0.2871   \n",
            "\n",
            "     fractal_dimension_worst  Unnamed: 32  \n",
            "0                    0.11890          NaN  \n",
            "1                    0.08902          NaN  \n",
            "2                    0.08758          NaN  \n",
            "3                    0.17300          NaN  \n",
            "4                    0.07678          NaN  \n",
            "..                       ...          ...  \n",
            "564                  0.07115          NaN  \n",
            "565                  0.06637          NaN  \n",
            "566                  0.07820          NaN  \n",
            "567                  0.12400          NaN  \n",
            "568                  0.07039          NaN  \n",
            "\n",
            "[569 rows x 33 columns]\n"
          ]
        }
      ],
      "source": [
        "import numpy as np\n",
        "import pandas as pd\n",
        "import matplotlib.pyplot as plt\n",
        "from sklearn.decomposition import PCA\n",
        "from sklearn.preprocessing import StandardScaler\n",
        "df = pd.read_csv('/content/data2pcaBreatcancer data.csv')\n",
        "print(df)\n",
        "np.set_printoptions(suppress=True) #so you do not get e or any notations"
      ]
    },
    {
      "cell_type": "code",
      "source": [
        "X = df.iloc[:,2:-1]\n",
        "X = X.to_numpy()\n",
        "print(X)"
      ],
      "metadata": {
        "colab": {
          "base_uri": "https://localhost:8080/"
        },
        "id": "HMVipKCA2jGf",
        "outputId": "fd1eb0d3-1c2d-4a68-c6a9-ced87f6e439b"
      },
      "execution_count": 31,
      "outputs": [
        {
          "output_type": "stream",
          "name": "stdout",
          "text": [
            "[[ 17.99     10.38    122.8     ...   0.2654    0.4601    0.1189 ]\n",
            " [ 20.57     17.77    132.9     ...   0.186     0.275     0.08902]\n",
            " [ 19.69     21.25    130.      ...   0.243     0.3613    0.08758]\n",
            " ...\n",
            " [ 16.6      28.08    108.3     ...   0.1418    0.2218    0.0782 ]\n",
            " [ 20.6      29.33    140.1     ...   0.265     0.4087    0.124  ]\n",
            " [  7.76     24.54     47.92    ...   0.        0.2871    0.07039]]\n"
          ]
        }
      ]
    },
    {
      "cell_type": "code",
      "source": [
        "X_standardized = StandardScaler().fit_transform(X)\n",
        "print(X_standardized)"
      ],
      "metadata": {
        "colab": {
          "base_uri": "https://localhost:8080/"
        },
        "id": "0CfB0K4P3eW4",
        "outputId": "ab945e30-69e0-4114-ef20-36c15e4e3fe8"
      },
      "execution_count": 32,
      "outputs": [
        {
          "output_type": "stream",
          "name": "stdout",
          "text": [
            "[[ 1.09706398 -2.07333501  1.26993369 ...  2.29607613  2.75062224\n",
            "   1.93701461]\n",
            " [ 1.82982061 -0.35363241  1.68595471 ...  1.0870843  -0.24388967\n",
            "   0.28118999]\n",
            " [ 1.57988811  0.45618695  1.56650313 ...  1.95500035  1.152255\n",
            "   0.20139121]\n",
            " ...\n",
            " [ 0.70228425  2.0455738   0.67267578 ...  0.41406869 -1.10454895\n",
            "  -0.31840916]\n",
            " [ 1.83834103  2.33645719  1.98252415 ...  2.28998549  1.91908301\n",
            "   2.21963528]\n",
            " [-1.80840125  1.22179204 -1.81438851 ... -1.74506282 -0.04813821\n",
            "  -0.75120669]]\n"
          ]
        }
      ]
    },
    {
      "cell_type": "code",
      "source": [
        "pca = PCA()\n",
        "X_pca = pca.fit_transform(X_standardized)\n",
        "print(X_pca)"
      ],
      "metadata": {
        "colab": {
          "base_uri": "https://localhost:8080/"
        },
        "id": "WRtD5NKm4T6R",
        "outputId": "01f331b7-c96c-4d22-8520-2d56d29a0c87"
      },
      "execution_count": 33,
      "outputs": [
        {
          "output_type": "stream",
          "name": "stdout",
          "text": [
            "[[ 9.19283683  1.94858307 -1.12316616 ...  0.03391445 -0.04564772\n",
            "   0.04716921]\n",
            " [ 2.3878018  -3.76817174 -0.52929269 ... -0.03262418  0.00568742\n",
            "   0.00186788]\n",
            " [ 5.73389628 -1.0751738  -0.55174759 ... -0.04702582 -0.0031459\n",
            "  -0.00075053]\n",
            " ...\n",
            " [ 1.25617928 -1.90229671  0.56273053 ...  0.00257776 -0.00670621\n",
            "  -0.00377042]\n",
            " [10.37479406  1.67201011 -1.87702933 ...  0.06808638  0.08416328\n",
            "   0.02378282]\n",
            " [-5.4752433  -0.67063679  1.49044308 ...  0.00951588  0.06091311\n",
            "   0.01947559]]\n"
          ]
        }
      ]
    },
    {
      "cell_type": "code",
      "source": [
        "#checking the variance covered by the PCs\n",
        "explained_variance = pca.explained_variance_ratio_\n",
        "print(explained_variance)"
      ],
      "metadata": {
        "colab": {
          "base_uri": "https://localhost:8080/"
        },
        "id": "YH8TYGaE7GpN",
        "outputId": "eae745ff-6568-41d8-eaf4-2c179c5a9585"
      },
      "execution_count": 34,
      "outputs": [
        {
          "output_type": "stream",
          "name": "stdout",
          "text": [
            "[0.44272026 0.18971182 0.09393163 0.06602135 0.05495768 0.04024522\n",
            " 0.02250734 0.01588724 0.01389649 0.01168978 0.00979719 0.00870538\n",
            " 0.00804525 0.00523366 0.00313783 0.00266209 0.00197997 0.00175396\n",
            " 0.00164925 0.00103865 0.0009991  0.00091465 0.00081136 0.00060183\n",
            " 0.00051604 0.00027259 0.00023002 0.00005298 0.00002496 0.00000443]\n"
          ]
        }
      ]
    },
    {
      "cell_type": "code",
      "source": [
        "plt.figure(figsize=(10, 6))\n",
        "plt.plot(range(1,len(explained_variance)+1),explained_variance,marker='o',linestyle='--')\n",
        "plt.xlabel('No.of Principal Components')\n",
        "plt.ylabel('Variance Explained')\n",
        "plt.title('Scree Plot')\n",
        "plt.show()"
      ],
      "metadata": {
        "colab": {
          "base_uri": "https://localhost:8080/",
          "height": 564
        },
        "id": "z1vM6jTj7Kh9",
        "outputId": "28166038-b888-4e5e-f90f-c15a10578504"
      },
      "execution_count": 35,
      "outputs": [
        {
          "output_type": "display_data",
          "data": {
            "text/plain": [
              "<Figure size 1000x600 with 1 Axes>"
            ],
            "image/png": "[encoded data removed]"
          },
          "metadata": {}
        }
      ]
    },
    {
      "cell_type": "code",
      "source": [
        "s = np.sum(explained_variance[:7])\n",
        "print(s)"
      ],
      "metadata": {
        "colab": {
          "base_uri": "https://localhost:8080/"
        },
        "id": "jSPxucC3Axh3",
        "outputId": "12ee980a-8cd7-4cc7-dc80-6f9c12cc5a91"
      },
      "execution_count": 37,
      "outputs": [
        {
          "output_type": "stream",
          "name": "stdout",
          "text": [
            "0.9100953006967311\n"
          ]
        }
      ]
    },
    {
      "cell_type": "markdown",
      "source": [
        "We take 7 PCs using elbow method as it covers 91% variance of the dataset"
      ],
      "metadata": {
        "id": "W2djvVSvCQzS"
      }
    },
    {
      "cell_type": "code",
      "source": [],
      "metadata": {
        "id": "c6mI6zJYCWya"
      },
      "execution_count": null,
      "outputs": []
    }
  ]
}