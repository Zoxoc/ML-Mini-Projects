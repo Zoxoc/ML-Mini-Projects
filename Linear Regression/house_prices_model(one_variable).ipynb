{
  "nbformat": 4,
  "nbformat_minor": 0,
  "metadata": {
    "colab": {
      "provenance": []
    },
    "kernelspec": {
      "name": "python3",
      "display_name": "Python 3"
    },
    "language_info": {
      "name": "python"
    }
  },
  "cells": [
    {
      "cell_type": "markdown",
      "source": [
        "This is a basic linear regression model with one variable.\n",
        "The model is trained without using libraries and there is no testing and training split"
      ],
      "metadata": {
        "id": "Y2pk161iG6Ha"
      }
    },
    {
      "cell_type": "code",
      "execution_count": 66,
      "metadata": {
        "colab": {
          "base_uri": "https://localhost:8080/",
          "height": 447
        },
        "id": "KO_75WmI4FJ5",
        "outputId": "c6e6ee23-12fa-4ab7-c91e-03970c81c277"
      },
      "outputs": [
        {
          "output_type": "execute_result",
          "data": {
            "text/plain": [
              "<matplotlib.collections.PathCollection at 0x79412fcb9f30>"
            ]
          },
          "metadata": {},
          "execution_count": 66
        },
        {
          "output_type": "display_data",
          "data": {
            "text/plain": [
              "<Figure size 640x480 with 1 Axes>"
            ],
            "image/png": "[encoded data removed]"
          },
          "metadata": {}
        }
      ],
      "source": [
        "import numpy as np\n",
        "import matplotlib.pyplot as plt\n",
        "X = np.array([\n",
        "    1500, 2000, 1800, 1200, 2200, 1700, 1400, 2500, 1600, 1900, 1300, 2100, 1750, 1350,\n",
        "    2150, 1850, 1250, 1650, 1950, 1350, 2150, 1850, 1250, 1650, 1950, 1350, 2150, 1850,\n",
        "    1250, 1650, 1950, 1350, 2150, 1850, 1250, 1650, 1950, 1350, 2150, 1850, 1250, 1650,\n",
        "    1950, 1350, 2150, 1850, 1250, 1650, 1950, 1350, 2150, 1850, 1250, 1650, 1950, 1350,\n",
        "    2150, 1850, 1250, 1650, 1950, 1350, 2150, 1850, 1250, 1650, 1950, 1350, 2150, 1850,\n",
        "    1250, 1650, 1950, 1350, 2150, 1850, 1250, 1650, 1950, 1350, 2150, 1850, 1250, 1650,\n",
        "    1950, 1350, 2150, 1850, 1250, 1650, 1950, 1350, 2150, 1850, 1250, 1650, 1950, 1350,\n",
        "    2150, 1850, 1250, 1650, 1950, 1350, 2150\n",
        "])\n",
        "y = np.array([\n",
        "    250000, 300000, 275000, 180000, 350000, 260000, 220000, 400000, 240000, 280000,\n",
        "    200000, 320000, 265000, 205000, 325000, 285000, 190000, 250000, 290000, 205000,\n",
        "    325000, 285000, 190000, 250000, 290000, 205000, 325000, 285000, 190000, 250000,\n",
        "    290000, 205000, 325000, 285000, 190000, 250000, 290000, 205000, 325000, 285000,\n",
        "    190000, 250000, 290000, 205000, 325000, 285000, 190000, 250000, 290000, 205000,\n",
        "    325000, 285000, 190000, 250000, 290000, 205000, 325000, 285000, 190000, 250000,\n",
        "    290000, 205000, 325000, 285000, 190000, 250000, 290000, 205000, 325000, 285000,\n",
        "    190000, 250000, 290000, 205000, 325000, 285000, 190000, 250000, 290000, 205000,\n",
        "    325000, 285000, 190000, 250000, 290000, 205000, 325000, 285000, 190000, 250000,\n",
        "    290000, 205000, 325000, 285000, 190000, 250000, 290000, 205000, 325000, 285000,\n",
        "    190000, 250000, 290000, 205000, 325000\n",
        "])\n",
        "y = y/1000\n",
        "plt.scatter(X,y,color='b')"
      ]
    },
    {
      "cell_type": "code",
      "source": [
        "#normalising the data to prevent overflowing\n",
        "X_min = X.min()\n",
        "X_max = X.max()\n",
        "y_min = y.min()\n",
        "y_max = y.max()\n",
        "X = (X - X_min) / (X_max - X_min)\n",
        "y = (y - y_min) / (y_max - y_min)"
      ],
      "metadata": {
        "id": "DXNhBvbnZ1G5"
      },
      "execution_count": 67,
      "outputs": []
    },
    {
      "cell_type": "code",
      "source": [
        "plt.scatter(X,y)"
      ],
      "metadata": {
        "colab": {
          "base_uri": "https://localhost:8080/",
          "height": 447
        },
        "id": "1d12_l_lZ68g",
        "outputId": "fe0c0d8f-3818-4faa-b4f5-dd69fa1af866"
      },
      "execution_count": 68,
      "outputs": [
        {
          "output_type": "execute_result",
          "data": {
            "text/plain": [
              "<matplotlib.collections.PathCollection at 0x79412fccd3f0>"
            ]
          },
          "metadata": {},
          "execution_count": 68
        },
        {
          "output_type": "display_data",
          "data": {
            "text/plain": [
              "<Figure size 640x480 with 1 Axes>"
            ],
            "image/png": "[encoded data removed]"
          },
          "metadata": {}
        }
      ]
    },
    {
      "cell_type": "code",
      "source": [
        "#initialising parameters to 0\n",
        "w = 0.\n",
        "b = 0."
      ],
      "metadata": {
        "id": "SgcxOxpMKdIj"
      },
      "execution_count": 69,
      "outputs": []
    },
    {
      "cell_type": "code",
      "source": [
        "#creating a function for calculating cost\n",
        "def cost_function(X,y,w,b):\n",
        "    m = X.shape[0]\n",
        "    cost = 0\n",
        "    for i in range(m):\n",
        "      f = (w*X[i]) + b\n",
        "      cost += (f - y[i])**2\n",
        "\n",
        "    cost /= (2*m)\n",
        "    return cost"
      ],
      "metadata": {
        "id": "3dPx8VfyLuMP"
      },
      "execution_count": 70,
      "outputs": []
    },
    {
      "cell_type": "code",
      "source": [
        "#function for finding derivates in gradient descent (dj_db, dj_dw)\n",
        "def derive(X,y,w,b):\n",
        "  m = X.shape[0]\n",
        "  dj_db = 0\n",
        "  dj_dw = 0\n",
        "  for i in range(m):\n",
        "    f = (w*X[i])+b\n",
        "    dj_dw += (f-y[i])*X[i]\n",
        "    dj_db += (f-y[i])\n",
        "\n",
        "  dj_db /= m\n",
        "  dj_dw /= m\n",
        "\n",
        "  return dj_dw, dj_db"
      ],
      "metadata": {
        "id": "x0Oi2c9SV0NH"
      },
      "execution_count": 71,
      "outputs": []
    },
    {
      "cell_type": "code",
      "source": [
        "#lets create a function for gradient descent now\n",
        "def gradient_descent(X,y,w,b,alpha,iterations):\n",
        "  costs = []\n",
        "  for i in range(iterations):\n",
        "    dj_dw, dj_db = derive(X,y,w,b)\n",
        "    #update parameters\n",
        "    w = w - (alpha*dj_dw)\n",
        "    b = b - (alpha*dj_db)\n",
        "\n",
        "\n",
        "    if i % 100 == 0:\n",
        "      cost = cost_function(X, y, w, b)\n",
        "      costs.append(cost)\n",
        "      print(f\"Iteration {i}: Cost {cost}\")\n",
        "\n",
        "  return w, b, costs\n"
      ],
      "metadata": {
        "id": "ObkrMzS9OJqD"
      },
      "execution_count": 72,
      "outputs": []
    },
    {
      "cell_type": "code",
      "source": [
        "alpha = 0.01\n",
        "iterations = 10000\n",
        "\n",
        "w, b, costs = gradient_descent(X, y, w, b, alpha, iterations)\n",
        "\n",
        "# Plotting the cost over iterations\n",
        "plt.plot(range(0, iterations, 100), costs)\n",
        "plt.xlabel('Iteration')\n",
        "plt.ylabel('Cost')\n",
        "plt.title('Cost vs Iterations')\n",
        "plt.show()\n",
        "\n",
        "print(\"Final weights:\", w)\n",
        "print(\"Final bias:\", b)"
      ],
      "metadata": {
        "colab": {
          "base_uri": "https://localhost:8080/",
          "height": 1000
        },
        "id": "ifZlJErCbf0h",
        "outputId": "40214bac-b613-44fc-cea5-a6533db32427"
      },
      "execution_count": 73,
      "outputs": [
        {
          "output_type": "stream",
          "name": "stdout",
          "text": [
            "Iteration 0: Cost 0.089095509003464\n",
            "Iteration 100: Cost 0.023484271473891045\n",
            "Iteration 200: Cost 0.015628350039517028\n",
            "Iteration 300: Cost 0.013504792633968572\n",
            "Iteration 400: Cost 0.012076069055653164\n",
            "Iteration 500: Cost 0.010841289818956113\n",
            "Iteration 600: Cost 0.00973895500832354\n",
            "Iteration 700: Cost 0.008751337668548248\n",
            "Iteration 800: Cost 0.007866158234684582\n",
            "Iteration 900: Cost 0.007072758671067589\n",
            "Iteration 1000: Cost 0.006361619597777218\n",
            "Iteration 1100: Cost 0.005724211854872226\n",
            "Iteration 1200: Cost 0.0051528909036814025\n",
            "Iteration 1300: Cost 0.004640804825773977\n",
            "Iteration 1400: Cost 0.004181812116338609\n",
            "Iteration 1500: Cost 0.0037704080254690494\n",
            "Iteration 1600: Cost 0.0034016585388081566\n",
            "Iteration 1700: Cost 0.003071141203345173\n",
            "Iteration 1800: Cost 0.0027748920884494164\n",
            "Iteration 1900: Cost 0.00250935824601545\n",
            "Iteration 2000: Cost 0.002271355099567044\n",
            "Iteration 2100: Cost 0.0020580282512824197\n",
            "Iteration 2200: Cost 0.0018668192488883423\n",
            "Iteration 2300: Cost 0.0016954349018615832\n",
            "Iteration 2400: Cost 0.0015418197789436082\n",
            "Iteration 2500: Cost 0.0014041315571282388\n",
            "Iteration 2600: Cost 0.0012807189264798717\n",
            "Iteration 2700: Cost 0.0011701017857924576\n",
            "Iteration 2800: Cost 0.0010709534915735097\n",
            "Iteration 2900: Cost 0.0009820849474632715\n",
            "Iteration 3000: Cost 0.0009024303432717765\n",
            "Iteration 3100: Cost 0.0008310343726003781\n",
            "Iteration 3200: Cost 0.0007670407757474404\n",
            "Iteration 3300: Cost 0.0007096820704918625\n",
            "Iteration 3400: Cost 0.0006582703475946993\n",
            "Iteration 3500: Cost 0.0006121890206282435\n",
            "Iteration 3600: Cost 0.0005708854311874312\n",
            "Iteration 3700: Cost 0.0005338642207969999\n",
            "Iteration 3800: Cost 0.0005006813900230208\n",
            "Iteration 3900: Cost 0.0004709389735390043\n",
            "Iteration 4000: Cost 0.00044428026728413305\n",
            "Iteration 4100: Cost 0.0004203855504723473\n",
            "Iteration 4200: Cost 0.00039896825114594576\n",
            "Iteration 4300: Cost 0.00037977150928665207\n",
            "Iteration 4400: Cost 0.0003625650962652855\n",
            "Iteration 4500: Cost 0.00034714265368456583\n",
            "Iteration 4600: Cost 0.00033331921850023434\n",
            "Iteration 4700: Cost 0.0003209290047390116\n",
            "Iteration 4800: Cost 0.0003098234152092195\n",
            "Iteration 4900: Cost 0.00029986925935840256\n",
            "Iteration 5000: Cost 0.00029094715590440696\n",
            "Iteration 5100: Cost 0.0002829501010826013\n",
            "Iteration 5200: Cost 0.00027578218533798706\n",
            "Iteration 5300: Cost 0.0002693574430713985\n",
            "Iteration 5400: Cost 0.00026359882164464515\n",
            "Iteration 5500: Cost 0.0002584372572797827\n",
            "Iteration 5600: Cost 0.0002538108467696459\n",
            "Iteration 5700: Cost 0.0002496641050659097\n",
            "Iteration 5800: Cost 0.00024594729984081233\n",
            "Iteration 5900: Cost 0.000242615855041912\n",
            "Iteration 6000: Cost 0.00023962981628659032\n",
            "Iteration 6100: Cost 0.00023695337168476888\n",
            "Iteration 6200: Cost 0.00023455442234298339\n",
            "Iteration 6300: Cost 0.0002324041973988423\n",
            "Iteration 6400: Cost 0.00023047690896891272\n",
            "Iteration 6500: Cost 0.00022874944287181598\n",
            "Iteration 6600: Cost 0.00022720108141730742\n",
            "Iteration 6700: Cost 0.00022581325493675695\n",
            "Iteration 6800: Cost 0.00022456931907506835\n",
            "Iteration 6900: Cost 0.00022345435517311135\n",
            "Iteration 7000: Cost 0.00022245499134660297\n",
            "Iteration 7100: Cost 0.00022155924211563654\n",
            "Iteration 7200: Cost 0.0002207563646615066\n",
            "Iteration 7300: Cost 0.00022003672998690662\n",
            "Iteration 7400: Cost 0.000219391707434307\n",
            "Iteration 7500: Cost 0.0002188135611775369\n",
            "Iteration 7600: Cost 0.00021829535744517187\n",
            "Iteration 7700: Cost 0.0002178308813630514\n",
            "Iteration 7800: Cost 0.000217414562418613\n",
            "Iteration 7900: Cost 0.00021704140765312584\n",
            "Iteration 8000: Cost 0.0002167069417805869\n",
            "Iteration 8100: Cost 0.00021640715351512878\n",
            "Iteration 8200: Cost 0.0002161384474632249\n",
            "Iteration 8300: Cost 0.00021589760100374267\n",
            "Iteration 8400: Cost 0.00021568172563869527\n",
            "Iteration 8500: Cost 0.00021548823235116924\n",
            "Iteration 8600: Cost 0.00021531480055496017\n",
            "Iteration 8700: Cost 0.00021515935026352514\n",
            "Iteration 8800: Cost 0.00021502001714448186\n",
            "Iteration 8900: Cost 0.0002148951301604631\n",
            "Iteration 9000: Cost 0.0002147831915281791\n",
            "Iteration 9100: Cost 0.00021468285875534518\n",
            "Iteration 9200: Cost 0.00021459292854001917\n",
            "Iteration 9300: Cost 0.00021451232233927258\n",
            "Iteration 9400: Cost 0.000214440073434105\n",
            "Iteration 9500: Cost 0.00021437531533547634\n",
            "Iteration 9600: Cost 0.00021431727139241305\n",
            "Iteration 9700: Cost 0.00021426524547754427\n",
            "Iteration 9800: Cost 0.00021421861363837022\n",
            "Iteration 9900: Cost 0.0002141768166141327\n"
          ]
        },
        {
          "output_type": "display_data",
          "data": {
            "text/plain": [
              "<Figure size 640x480 with 1 Axes>"
            ],
            "image/png": "[encoded data removed]"
          },
          "metadata": {}
        },
        {
          "output_type": "stream",
          "name": "stdout",
          "text": [
            "Final weights: 0.8891592188632991\n",
            "Final bias: 0.013154895032959302\n"
          ]
        }
      ]
    },
    {
      "cell_type": "markdown",
      "source": [
        "Now we have trained our model so lets try to predict a house price\n"
      ],
      "metadata": {
        "id": "8ZYbbYjdhNdu"
      }
    },
    {
      "cell_type": "code",
      "source": [
        "x_predict = 1250\n",
        "x_predict = (x_predict - X_min) / (X_max - X_min)\n",
        "prediction = w * x_predict + b\n",
        "prediction = prediction * (y_max - y_min) + y_min\n",
        "prediction *= 1000\n",
        "print(prediction)"
      ],
      "metadata": {
        "colab": {
          "base_uri": "https://localhost:8080/"
        },
        "id": "LDf4AOqshTG3",
        "outputId": "a5f1fafc-bc58-4686-ea70-2211f267242a"
      },
      "execution_count": 76,
      "outputs": [
        {
          "output_type": "stream",
          "name": "stdout",
          "text": [
            "190417.73183609435\n"
          ]
        }
      ]
    }
  ]
}