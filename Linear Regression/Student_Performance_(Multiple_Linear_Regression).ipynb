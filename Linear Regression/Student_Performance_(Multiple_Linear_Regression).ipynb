{
  "nbformat": 4,
  "nbformat_minor": 0,
  "metadata": {
    "colab": {
      "provenance": []
    },
    "kernelspec": {
      "name": "python3",
      "display_name": "Python 3"
    },
    "language_info": {
      "name": "python"
    }
  },
  "cells": [
    {
      "cell_type": "markdown",
      "source": [
        "\n",
        "This is a basic multiple linear regression model. The model is trained without using libraries and there is no testing and training split"
      ],
      "metadata": {
        "id": "BkMIAI9SQX5n"
      }
    },
    {
      "cell_type": "code",
      "execution_count": 9,
      "metadata": {
        "colab": {
          "base_uri": "https://localhost:8080/"
        },
        "id": "uhF6ScpfQJBx",
        "outputId": "c794e2ef-e10a-43b3-c9e3-1b9d0921e20f"
      },
      "outputs": [
        {
          "output_type": "stream",
          "name": "stdout",
          "text": [
            "      Hours Studied  Previous Scores  Sleep Hours  \\\n",
            "0                 7               99            9   \n",
            "1                 4               82            4   \n",
            "2                 8               51            7   \n",
            "3                 5               52            5   \n",
            "4                 7               75            8   \n",
            "...             ...              ...          ...   \n",
            "9995              1               49            4   \n",
            "9996              7               64            8   \n",
            "9997              6               83            8   \n",
            "9998              9               97            7   \n",
            "9999              7               74            8   \n",
            "\n",
            "      Sample Question Papers Practiced  Score  \n",
            "0                                    1   91.0  \n",
            "1                                    2   65.0  \n",
            "2                                    2   45.0  \n",
            "3                                    2   36.0  \n",
            "4                                    5   66.0  \n",
            "...                                ...    ...  \n",
            "9995                                 2   23.0  \n",
            "9996                                 5   58.0  \n",
            "9997                                 5   74.0  \n",
            "9998                                 0   95.0  \n",
            "9999                                 1   64.0  \n",
            "\n",
            "[10000 rows x 5 columns]\n"
          ]
        }
      ],
      "source": [
        "import numpy as np\n",
        "import pandas as pd\n",
        "import matplotlib.pyplot as plt\n",
        "\n",
        "df = pd.read_csv('/content/drive/MyDrive/Colab Notebooks/ML Mini Projects/Datasets/Student_Performance.csv')\n",
        "print(df)"
      ]
    },
    {
      "cell_type": "code",
      "source": [
        "#now lets take the input rows to numpy arrays\n",
        "x1 = df['Hours Studied'].to_numpy()\n",
        "x2 = df['Previous Scores'].to_numpy()\n",
        "x3 = df['Sleep Hours'].to_numpy()\n",
        "x4 = df['Sample Question Papers Practiced'].to_numpy()\n",
        "X = np.column_stack((x1,x2,x3,x4))\n",
        "y = df['Score'].to_numpy()\n",
        "print(f\"X: {X}\\n y: {y}\")"
      ],
      "metadata": {
        "colab": {
          "base_uri": "https://localhost:8080/"
        },
        "id": "vQw6um3rU9q7",
        "outputId": "b9ef420f-3576-46ca-a8de-e3ccf14ec984"
      },
      "execution_count": 18,
      "outputs": [
        {
          "output_type": "stream",
          "name": "stdout",
          "text": [
            "X: [[ 7 99  9  1]\n",
            " [ 4 82  4  2]\n",
            " [ 8 51  7  2]\n",
            " ...\n",
            " [ 6 83  8  5]\n",
            " [ 9 97  7  0]\n",
            " [ 7 74  8  1]]\n",
            " y: [91. 65. 45. ... 74. 95. 64.]\n"
          ]
        }
      ]
    },
    {
      "cell_type": "code",
      "source": [
        "#As you cant plot 4 features to y, lets plot each feature to y\n",
        "plt.subplot(2, 2, 1)  # 2 rows, 2 columns, 1st subplot\n",
        "plt.scatter(x1, y, color='b')\n",
        "plt.title('x1 vs y')\n",
        "plt.xlabel('x1')\n",
        "plt.ylabel('y')\n",
        "\n",
        "plt.subplot(2, 2, 2)  # 2 rows, 2 columns, 2nd subplot\n",
        "plt.scatter(x2, y, color='r')\n",
        "plt.title('x2 vs y')\n",
        "plt.xlabel('x2')\n",
        "plt.ylabel('y')\n",
        "\n",
        "plt.subplot(2, 2, 3)  # 2 rows, 2 columns, 3rd subplot\n",
        "plt.scatter(x3, y, color='g')\n",
        "plt.title('x3 vs y')\n",
        "plt.xlabel('x3')\n",
        "plt.ylabel('y')\n",
        "\n",
        "plt.subplot(2, 2, 4)  # 2 rows, 2 columns, 4th subplot\n",
        "plt.scatter(x4, y, color='m')\n",
        "plt.title('x4 vs y')\n",
        "plt.xlabel('x4')\n",
        "plt.ylabel('y')\n",
        "\n",
        "plt.tight_layout()  # Adjusts the layout to prevent overlap\n",
        "plt.show()"
      ],
      "metadata": {
        "colab": {
          "base_uri": "https://localhost:8080/",
          "height": 485
        },
        "id": "I5l72dsoXb6B",
        "outputId": "fb45d53b-943a-4a53-ffac-79f586018c73"
      },
      "execution_count": 13,
      "outputs": [
        {
          "output_type": "display_data",
          "data": {
            "text/plain": [
              "<Figure size 640x480 with 4 Axes>"
            ],
            "image/png": "[encoded data removed]"
          },
          "metadata": {}
        }
      ]
    },
    {
      "cell_type": "code",
      "source": [
        "#normalising the data to prevent overflowing\n",
        "X_min = X.min()\n",
        "X_max = X.max()\n",
        "y_min = y.min()\n",
        "y_max = y.max()\n",
        "X = (X - X_min) / (X_max - X_min)\n",
        "y = (y - y_min) / (y_max - y_min)"
      ],
      "metadata": {
        "id": "IV04rSrh53mN"
      },
      "execution_count": 25,
      "outputs": []
    },
    {
      "cell_type": "code",
      "source": [
        "#defining cost function\n",
        "def cost_function(X,y,w,b):\n",
        "  m = X.shape[0]\n",
        "  cost = 0\n",
        "  for i in range(m):\n",
        "    f = np.dot(w,X[i]) + b\n",
        "    cost += (f-y[i])**2\n",
        "\n",
        "  cost/= (2*m)\n",
        "  return cost"
      ],
      "metadata": {
        "id": "ODLCQguPy6KF"
      },
      "execution_count": 19,
      "outputs": []
    },
    {
      "cell_type": "code",
      "source": [
        "#function for finding derivates in gradient descent (dj_db, dj_dw)\n",
        "def derive(X,y,w,b):\n",
        "  m = X.shape[0]\n",
        "  n = w.shape[0]\n",
        "  dj_db = 0\n",
        "  dj_dw = np.zeros(n)\n",
        "  for i in range(m):\n",
        "    f = np.dot(w,X[i]) + b\n",
        "    for j in range(n):\n",
        "      dj_dw[j] += (f-y[i])*X[i][j]\n",
        "    dj_db += (f-y[i])\n",
        "\n",
        "  dj_db /= m\n",
        "  dj_dw /= m\n",
        "\n",
        "  return dj_dw, dj_db"
      ],
      "metadata": {
        "id": "DcTwsBu31c6P"
      },
      "execution_count": 22,
      "outputs": []
    },
    {
      "cell_type": "code",
      "source": [
        "#creeating gradient descent\n",
        "def gradient_descent(X,y,w,b,alpha,iterations):\n",
        "  costs = []\n",
        "  n = w.shape[0]\n",
        "  for i in range(iterations):\n",
        "    dj_dw, dj_db = derive(X,y,w,b)\n",
        "    #update parameters\n",
        "    for j in range(n):\n",
        "      w[j] = w[j] - (alpha*dj_dw[j])\n",
        "    b = b - (alpha*dj_db)\n",
        "\n",
        "\n",
        "    if i % 100 == 0:\n",
        "      cost = cost_function(X, y, w, b)\n",
        "      costs.append(cost)\n",
        "      print(f\"Iteration {i}: Cost {cost}\")\n",
        "\n",
        "  return w, b, costs"
      ],
      "metadata": {
        "id": "m4ez9Thr2iw3"
      },
      "execution_count": 23,
      "outputs": []
    },
    {
      "cell_type": "code",
      "source": [
        "w = np.zeros(4)\n",
        "b = -1\n",
        "alpha = 0.01\n",
        "iterations = 1000\n",
        "w_final, b_final, costs = gradient_descent(X,y,w,b,alpha,iterations)\n",
        "plt.plot(range(0,iterations,100),costs)\n",
        "plt.xlabel('Iteration')\n",
        "plt.ylabel('Cost')\n",
        "plt.title('Cost vs Iterations')\n",
        "plt.show()"
      ],
      "metadata": {
        "colab": {
          "base_uri": "https://localhost:8080/",
          "height": 642
        },
        "id": "Z-hOMwPj21G0",
        "outputId": "015a3d6c-99e9-4e20-d9db-5642329c164c"
      },
      "execution_count": 36,
      "outputs": [
        {
          "output_type": "stream",
          "name": "stdout",
          "text": [
            "Iteration 0: Cost 1.117170118365349\n",
            "Iteration 100: Cost 0.058799398355372\n",
            "Iteration 200: Cost 0.00836528725600837\n",
            "Iteration 300: Cost 0.005876325695853508\n",
            "Iteration 400: Cost 0.005671280506838811\n",
            "Iteration 500: Cost 0.005578179838493037\n",
            "Iteration 600: Cost 0.005493583124204018\n",
            "Iteration 700: Cost 0.005412442869642918\n",
            "Iteration 800: Cost 0.005334396671344481\n",
            "Iteration 900: Cost 0.005259309879404638\n"
          ]
        },
        {
          "output_type": "display_data",
          "data": {
            "text/plain": [
              "<Figure size 640x480 with 1 Axes>"
            ],
            "image/png": "[encoded data removed]"
          },
          "metadata": {}
        }
      ]
    },
    {
      "cell_type": "code",
      "source": [
        "print(\"Final weights:\", w)\n",
        "print(\"Final bias:\", b)"
      ],
      "metadata": {
        "colab": {
          "base_uri": "https://localhost:8080/"
        },
        "id": "Rns9Zm__6WoX",
        "outputId": "494e9494-57ca-4afb-8ec9-a295fd7c994b"
      },
      "execution_count": 37,
      "outputs": [
        {
          "output_type": "stream",
          "name": "stdout",
          "text": [
            "Final weights: [0.06851264 0.78833579 0.06376308 0.04575334]\n",
            "Final bias: -1\n"
          ]
        }
      ]
    },
    {
      "cell_type": "code",
      "source": [
        "#predicting\n",
        "x_predict = [8,64,5,1]\n",
        "x_predict = (x_predict - X_min) / (X_max - X_min)\n",
        "prediction = np.dot(w_final,x_predict) + b_final\n",
        "prediction = prediction * (y_max - y_min) + y_min\n",
        "print(prediction)"
      ],
      "metadata": {
        "colab": {
          "base_uri": "https://localhost:8080/"
        },
        "id": "lBD2CJIO6MtS",
        "outputId": "9e5f6d69-50fa-4f36-ef7c-65cb6d7048a3"
      },
      "execution_count": 40,
      "outputs": [
        {
          "output_type": "stream",
          "name": "stdout",
          "text": [
            "51.70663946941557\n"
          ]
        }
      ]
    }
  ]
}